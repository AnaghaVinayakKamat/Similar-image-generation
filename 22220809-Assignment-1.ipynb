{
 "cells": [
  {
   "cell_type": "markdown",
   "id": "627f83f3",
   "metadata": {},
   "source": [
    "### Student Name: Anagha Vinayak Kamat\n",
    "### Student ID: 22220809\n",
    "### Course Code: CT5133\n",
    "### Assignment 1\n",
    "\n",
    "\n",
    "\n",
    "#### The whole assignment is done individually by Anagha Vinayak Kamat"
   ]
  },
  {
   "cell_type": "markdown",
   "id": "73373668",
   "metadata": {},
   "source": [
    "# PART 1: Implement Logistic Regression"
   ]
  },
  {
   "cell_type": "markdown",
   "id": "71b53a92",
   "metadata": {},
   "source": [
    "## Algorithm Approach\n",
    "\n",
    "1. In the beginning, I initiated learning_rate value (alpha value) and set iterations/ epochs to 1000. \n",
    "2. Then I created sigmoid activation function. \n",
    "3. In the fit function, I first stored the number of rows and number of columns of xtrain data in m and n variable to make further process easier. \n",
    "4. I initiated weights with np.zeros and given the shape where number of rows will be equivalent to the number of columns in xtrain data and number of columns of weights will be 1. The bias was initiated to 0. \n",
    "5. I ran a loop for total number of iterations and performed forward propagation, backward propagation, weights update part in it.\n",
    "6. During forward propagation phase, I first implemented the linear regression formula and later I applied the sigmoid activation function on it. After that, I calculated the cost or the loss function and then performed back propagation. \n",
    "7. In the back propagation phase, to obtain dw I performed dot product between xtrain data and difference of yhat and ytrain data. To obtain db, I simply calculated the sum of the difference between yhat and ytrain data.\n",
    "8. Following the above step, I multiplied my derivatives of weights and derivatives of bias with learning rate and subtracted the result with latest weights and biases respectively.\n",
    "9. Finally in the predict function, I set a threshold of 0.5 where values over 0.5 are considered 1 and under 0.5 are considered 0."
   ]
  },
  {
   "cell_type": "code",
   "execution_count": 1,
   "id": "47d8b307",
   "metadata": {},
   "outputs": [],
   "source": [
    "import pandas as pd\n",
    "import numpy as np\n",
    "import matplotlib.pyplot as plt\n",
    "from sklearn.metrics import accuracy_score, confusion_matrix\n",
    "from sklearn.preprocessing import StandardScaler\n",
    "from sklearn.model_selection import train_test_split\n",
    "from sklearn.preprocessing import normalize"
   ]
  },
  {
   "cell_type": "code",
   "execution_count": 2,
   "id": "739b2137",
   "metadata": {},
   "outputs": [],
   "source": [
    "class LogisticRegression:\n",
    "    def __init__(self, learning_rate=0.01, iterations=1000):\n",
    "        self.learning_rate = learning_rate\n",
    "        self.iterations = iterations\n",
    "        \n",
    "        \n",
    "    def sigmoid(self, z):\n",
    "        return 1 / (1 + np.exp(-z))                                     # sigmoid activation function\n",
    "                \n",
    "    \n",
    "    def fit(self, x, y):\n",
    "        m, n = x.shape\n",
    "        self.weights = np.zeros((n, 1))                                 # specify the shape of weights initially\n",
    "        self.bias = 0                                                   # initiate bias as 0\n",
    "        \n",
    "        for i in range(self.iterations):\n",
    "            # Forward propagation\n",
    "            z = np.dot(x, self.weights) + self.bias                     # linear regression formula\n",
    "            yhat = self.sigmoid(z)                                         # activation function\n",
    "            \n",
    "            # Compute cost function\n",
    "            cost = (-1/m) * np.sum(y*np.log(yhat) + (1-y)*np.log(1-yhat))     # calculating loss\n",
    "            \n",
    "            # Backward propagation\n",
    "            dw = np.dot(x.T, (yhat-y))             # obtaining derivayives of weights and biases using gradient descent\n",
    "            db = np.sum(yhat-y)\n",
    "            \n",
    "            # Update weights and bias\n",
    "            self.weights -= self.learning_rate * dw                    \n",
    "            self.bias -= self.learning_rate * db\n",
    "\n",
    "    def predict(self, x):\n",
    "        z = np.dot(x, self.weights) + self.bias\n",
    "        yhat = self.sigmoid(z)\n",
    "        predictions = [1 if i > 0.5 else 0 for i in yhat]     # specifying a threshold value\n",
    "        return predictions"
   ]
  },
  {
   "cell_type": "code",
   "execution_count": 3,
   "id": "2ee6be43",
   "metadata": {},
   "outputs": [],
   "source": [
    "def f1_score(y, y_pred):\n",
    "    tp = 0\n",
    "    tn = 0\n",
    "    fp = 0\n",
    "    fn = 0\n",
    "    \n",
    "    for true, pred in zip(y, y_pred):\n",
    "        if true == 1 and pred == 1:\n",
    "            tp += 1\n",
    "        elif true == 0 and pred == 0:\n",
    "            tn += 1\n",
    "        elif true == 0 and pred == 1:\n",
    "            fp += 1\n",
    "        elif true == 1 and pred == 0:\n",
    "            fn += 1\n",
    "    \n",
    "    accuracy = (tp + tn)/ (tp + tn + fp + fn)\n",
    "    return accuracy"
   ]
  },
  {
   "cell_type": "markdown",
   "id": "c00fb911",
   "metadata": {},
   "source": [
    "# Part 2: Easy Tasks"
   ]
  },
  {
   "cell_type": "code",
   "execution_count": 4,
   "id": "8872cc72",
   "metadata": {},
   "outputs": [
    {
     "data": {
      "text/plain": [
       "0.9166666666666666"
      ]
     },
     "execution_count": 4,
     "metadata": {},
     "output_type": "execute_result"
    }
   ],
   "source": [
    "data1 = pd.read_csv('blobs400.csv')\n",
    "\n",
    "train1 = data1[['X1', 'X2', 'X3']]\n",
    "test1 = data1[['Class']]\n",
    "\n",
    "x_train1, x_test1, y_train1, y_test1 = train_test_split(train1, test1,\n",
    "    test_size=0.3, shuffle = True, random_state = 8)\n",
    "\n",
    "x_test1, x_val1, y_test1, y_val1 = train_test_split(x_test1, y_test1, \n",
    "    test_size=0.5, random_state= 8, shuffle = True)\n",
    "\n",
    "x_train1 = normalize(x_train1)\n",
    "x_test1 = normalize(x_test1)\n",
    "x_val1 = normalize(x_val1)\n",
    "y_train1 = normalize(y_train1)\n",
    "y_test1 = normalize(y_test1)\n",
    "y_val1 = normalize(y_val1)\n",
    "\n",
    "model1 = LogisticRegression()\n",
    "model1.fit(x_train1, y_train1)\n",
    "y_pred1 = model1.predict(x_test1)\n",
    "\n",
    "acc1 = f1_score(y_test1, y_pred1)\n",
    "acc1"
   ]
  },
  {
   "cell_type": "code",
   "execution_count": 5,
   "id": "e1cef588",
   "metadata": {},
   "outputs": [
    {
     "data": {
      "text/plain": [
       "0.85"
      ]
     },
     "execution_count": 5,
     "metadata": {},
     "output_type": "execute_result"
    }
   ],
   "source": [
    "data2 = pd.read_csv('moons500.csv')\n",
    "\n",
    "train2 = data1[['X1', 'X2']]\n",
    "test2 = data1[['Class']]\n",
    "\n",
    "x_train2, x_test2, y_train2, y_test2 = train_test_split(train2, test2,\n",
    "    test_size=0.3, shuffle = True, random_state = 8)\n",
    "\n",
    "x_test2, x_val2, y_test2, y_val2 = train_test_split(x_test2, y_test2, \n",
    "    test_size=0.5, random_state= 8, shuffle = True)\n",
    "\n",
    "x_train2 = normalize(x_train2)\n",
    "x_test2 = normalize(x_test2)\n",
    "x_val2 = normalize(x_val2)\n",
    "y_train2 = normalize(y_train2)\n",
    "y_test2 = normalize(y_test2)\n",
    "y_val2 = normalize(y_val2)\n",
    "\n",
    "\n",
    "model2 = LogisticRegression()\n",
    "model2.fit(x_train2, y_train2)\n",
    "y_pred2 = model2.predict(x_test2)\n",
    "\n",
    "acc2 = f1_score(y_test2, y_pred2)\n",
    "acc2"
   ]
  },
  {
   "cell_type": "code",
   "execution_count": 6,
   "id": "cbfea7d2",
   "metadata": {
    "scrolled": false
   },
   "outputs": [
    {
     "data": {
      "text/plain": [
       "<Figure size 2880x1440 with 0 Axes>"
      ]
     },
     "execution_count": 6,
     "metadata": {},
     "output_type": "execute_result"
    },
    {
     "data": {
      "image/png": "[encoded data removed]",
      "text/plain": [
       "<Figure size 432x288 with 1 Axes>"
      ]
     },
     "metadata": {
      "needs_background": "light"
     },
     "output_type": "display_data"
    },
    {
     "data": {
      "text/plain": [
       "<Figure size 2880x1440 with 0 Axes>"
      ]
     },
     "metadata": {},
     "output_type": "display_data"
    }
   ],
   "source": [
    "plt.subplot(1,1,1)\n",
    "plt.plot(y_pred1)\n",
    "plt.title('Accuracy for Blobs400.csv')\n",
    "plt.ylabel('accuracy')\n",
    "plt.xlabel('epoch')\n",
    "plt.figure(figsize=(40,20))"
   ]
  },
  {
   "cell_type": "code",
   "execution_count": 7,
   "id": "2d6f2b35",
   "metadata": {
    "scrolled": true
   },
   "outputs": [
    {
     "data": {
      "text/plain": [
       "<Figure size 2880x1440 with 0 Axes>"
      ]
     },
     "execution_count": 7,
     "metadata": {},
     "output_type": "execute_result"
    },
    {
     "data": {
      "image/png": "[encoded data removed]",
      "text/plain": [
       "<Figure size 432x288 with 1 Axes>"
      ]
     },
     "metadata": {
      "needs_background": "light"
     },
     "output_type": "display_data"
    },
    {
     "data": {
      "text/plain": [
       "<Figure size 2880x1440 with 0 Axes>"
      ]
     },
     "metadata": {},
     "output_type": "display_data"
    }
   ],
   "source": [
    "plt.subplot(1,1,1)\n",
    "plt.plot(y_pred2)\n",
    "plt.title('Accuracy for Moons500.csv')\n",
    "plt.ylabel('accuracy')\n",
    "plt.xlabel('epoch')\n",
    "plt.figure(figsize=(40,20))"
   ]
  },
  {
   "cell_type": "markdown",
   "id": "7ce1e114",
   "metadata": {},
   "source": [
    "## Issues Faced\n",
    "\n",
    "I tried implementing logistic regression with stochastic gradient descent but inside the for loop I was facing some issues inside the 2nd for loop where we iterate through each row. I was facing issues when the shapes of the weights would change during the back propagation due to which I couldn't implement it that way. I tried implementing multiple ways but I couldn't succeed. Although my code was working earlier without stochastic gradient descent hence, I continued with my previous code. I have attached my stochastic gradient descent code as well below."
   ]
  },
  {
   "cell_type": "code",
   "execution_count": 8,
   "id": "c4ccf369",
   "metadata": {},
   "outputs": [
    {
     "ename": "ValueError",
     "evalue": "shapes (3,) and (1,) not aligned: 3 (dim 0) != 1 (dim 0)",
     "output_type": "error",
     "traceback": [
      "\u001b[1;31m---------------------------------------------------------------------------\u001b[0m",
      "\u001b[1;31mValueError\u001b[0m                                Traceback (most recent call last)",
      "Input \u001b[1;32mIn [8]\u001b[0m, in \u001b[0;36m<cell line: 45>\u001b[1;34m()\u001b[0m\n\u001b[0;32m     40\u001b[0m         \u001b[38;5;28;01mreturn\u001b[39;00m predictions\n\u001b[0;32m     44\u001b[0m model1 \u001b[38;5;241m=\u001b[39m LogisticRegression()\n\u001b[1;32m---> 45\u001b[0m \u001b[43mmodel1\u001b[49m\u001b[38;5;241;43m.\u001b[39;49m\u001b[43mfit\u001b[49m\u001b[43m(\u001b[49m\u001b[43mx_train1\u001b[49m\u001b[43m,\u001b[49m\u001b[43m \u001b[49m\u001b[43my_train1\u001b[49m\u001b[43m)\u001b[49m\n\u001b[0;32m     46\u001b[0m y_pred1 \u001b[38;5;241m=\u001b[39m model1\u001b[38;5;241m.\u001b[39mpredict(x_test1)\n\u001b[0;32m     47\u001b[0m f1_score(y_test1, y_pred1)\n",
      "Input \u001b[1;32mIn [8]\u001b[0m, in \u001b[0;36mLogisticRegression.fit\u001b[1;34m(self, x, y)\u001b[0m\n\u001b[0;32m     23\u001b[0m cost \u001b[38;5;241m=\u001b[39m (\u001b[38;5;241m-\u001b[39m\u001b[38;5;241m1\u001b[39m\u001b[38;5;241m/\u001b[39mm) \u001b[38;5;241m*\u001b[39m np\u001b[38;5;241m.\u001b[39msum(y[j]\u001b[38;5;241m*\u001b[39mnp\u001b[38;5;241m.\u001b[39mlog(yhat) \u001b[38;5;241m+\u001b[39m (\u001b[38;5;241m1\u001b[39m\u001b[38;5;241m-\u001b[39my[j])\u001b[38;5;241m*\u001b[39mnp\u001b[38;5;241m.\u001b[39mlog(\u001b[38;5;241m1\u001b[39m\u001b[38;5;241m-\u001b[39myhat))     \u001b[38;5;66;03m# calculating loss\u001b[39;00m\n\u001b[0;32m     25\u001b[0m \u001b[38;5;66;03m# Backward propagation\u001b[39;00m\n\u001b[1;32m---> 26\u001b[0m dw \u001b[38;5;241m=\u001b[39m \u001b[43mnp\u001b[49m\u001b[38;5;241;43m.\u001b[39;49m\u001b[43mdot\u001b[49m\u001b[43m(\u001b[49m\u001b[43mx\u001b[49m\u001b[43m[\u001b[49m\u001b[43mj\u001b[49m\u001b[43m]\u001b[49m\u001b[38;5;241;43m.\u001b[39;49m\u001b[43mT\u001b[49m\u001b[43m,\u001b[49m\u001b[43m \u001b[49m\u001b[43m(\u001b[49m\u001b[43myhat\u001b[49m\u001b[38;5;241;43m-\u001b[39;49m\u001b[43my\u001b[49m\u001b[43m[\u001b[49m\u001b[43mj\u001b[49m\u001b[43m]\u001b[49m\u001b[43m)\u001b[49m\u001b[43m)\u001b[49m             \u001b[38;5;66;03m# obtaining derivayives of weights and biases using gradient descent\u001b[39;00m\n\u001b[0;32m     27\u001b[0m db \u001b[38;5;241m=\u001b[39m np\u001b[38;5;241m.\u001b[39msum(yhat\u001b[38;5;241m-\u001b[39my[j])\n\u001b[0;32m     29\u001b[0m \u001b[38;5;66;03m# Update weights and bias\u001b[39;00m\n",
      "File \u001b[1;32m<__array_function__ internals>:180\u001b[0m, in \u001b[0;36mdot\u001b[1;34m(*args, **kwargs)\u001b[0m\n",
      "\u001b[1;31mValueError\u001b[0m: shapes (3,) and (1,) not aligned: 3 (dim 0) != 1 (dim 0)"
     ]
    }
   ],
   "source": [
    "class LogisticRegression:\n",
    "    def __init__(self, learning_rate=0.01, iterations=1000):\n",
    "        self.learning_rate = learning_rate\n",
    "        self.iterations = iterations\n",
    "        \n",
    "        \n",
    "    def sigmoid(self, z):\n",
    "        return 1 / (1 + np.exp(-z))                                     # sigmoid activation function\n",
    "                \n",
    "    \n",
    "    def fit(self, x, y):\n",
    "        m, n = x.shape\n",
    "        self.weights = np.zeros((n, 1))                                 # specify the shape of weights initially\n",
    "        self.bias = 0                                                   # initiate bias as 0\n",
    "        \n",
    "        for i in range(self.iterations):\n",
    "            for j in range(m):\n",
    "            # Forward propagation\n",
    "                z = np.dot(x[j], self.weights) + self.bias                     # linear regression formula\n",
    "                yhat = self.sigmoid(z)                                         # activation function\n",
    "\n",
    "                # Compute cost function\n",
    "                cost = (-1/m) * np.sum(y[j]*np.log(yhat) + (1-y[j])*np.log(1-yhat))     # calculating loss\n",
    "\n",
    "                # Backward propagation\n",
    "                dw = np.dot(x[j].T, (yhat-y[j]))             # obtaining derivayives of weights and biases using gradient descent\n",
    "                db = np.sum(yhat-y[j])\n",
    "\n",
    "                # Update weights and bias\n",
    "                self.weights -= self.learning_rate * dw                    \n",
    "                self.bias -= self.learning_rate * db\n",
    "            \n",
    "    \n",
    "    def predict(self, x):\n",
    "        z = np.dot(x, self.weights) + self.bias\n",
    "        yhat = self.sigmoid(z)\n",
    "        predictions = [1 if i > 0.5 else 0 for i in yhat]     # specifying a threshold value\n",
    "\n",
    "        \n",
    "        return predictions\n",
    "\n",
    "\n",
    "    \n",
    "model1 = LogisticRegression()\n",
    "model1.fit(x_train1, y_train1)\n",
    "y_pred1 = model1.predict(x_test1)\n",
    "f1_score(y_test1, y_pred1)"
   ]
  },
  {
   "cell_type": "markdown",
   "id": "31640821",
   "metadata": {},
   "source": []
  },
  {
   "cell_type": "markdown",
   "id": "fe1b19f7",
   "metadata": {},
   "source": [
    "# Part 3: Implement and Test a Shallow Neural Network"
   ]
  },
  {
   "cell_type": "markdown",
   "id": "d0107fb7",
   "metadata": {},
   "source": [
    "# Algorithm Approach\n",
    "\n",
    "In this part, I used my previous Logistic Regression code and added one hidden layer to make it ShallowNN.\n",
    "1. The very first changes I made were initiating the values of hidden_layer to 4. Here, 4 stands for hidden layer nodes. \n",
    "2. Later I created a softmax function which I used in changing weights during back propagation.\n",
    "3. I one hidden layer and weights equivalent to it having the shape of array [4,2] wherw 4 is the number of nodes in the hidden layer. \n",
    "3. Finally, I carried out forward and backward propagation on all the layers, updated the weights, and calculated the cost function as well. "
   ]
  },
  {
   "cell_type": "code",
   "execution_count": 9,
   "id": "7f8ab320",
   "metadata": {},
   "outputs": [],
   "source": [
    "class Shallow_NN:\n",
    "    def __init__(self, learning_rate=0.01, iterations=1000, hidden_layers=4):\n",
    "        self.learning_rate = learning_rate\n",
    "        self.iterations = iterations\n",
    "        self.hidden_layers = hidden_layers\n",
    "        \n",
    "        \n",
    "    def sigmoid(self, z):\n",
    "        return 1 / (1 + np.exp(-z))                                     \n",
    "    \n",
    "    \n",
    "    def softmax(self, x):\n",
    "        return(np.exp(x)/np.exp(x).sum())\n",
    "                \n",
    "    \n",
    "    def fit(self, x, y):\n",
    "        \n",
    "        m, n = x.shape\n",
    "        w1 = np.zeros((n, 1))                                 \n",
    "        b1 = np.zeros((m,1))                                                   \n",
    "        w2 = np.zeros((self.hidden_layers, 1))\n",
    "        b2 = np.zeros((m, 1))\n",
    "        \n",
    "        \n",
    "        \n",
    "        for i in range(self.iterations):\n",
    "            # Forward propagation\n",
    "            z1 = np.dot(x, w1) + b1                     \n",
    "            h1 = self.sigmoid(z1)\n",
    "            z2 = np.dot(h1, w2.T) + b2\n",
    "            output = self.sigmoid(z2)\n",
    "            \n",
    "            \n",
    "            # backward propagation\n",
    "            dz2 = output - y\n",
    "            dw2 = 1/m * np.dot(h1.T, dz2)\n",
    "            db2 = 1/m * np.sum(dz2)\n",
    "            dz1 = self.softmax(dz2)\n",
    "            dw1 = 1/m * np.dot(x.T, dz1)\n",
    "            db1 = 1/m * np.sum(dz1)\n",
    "            \n",
    "            # Update weights and bias\n",
    "#             print(w1.shape)\n",
    "            w1 -= self.learning_rate * dw1\n",
    "            b1 -= self.learning_rate * db2\n",
    "            w2 -= self.learning_rate * dw2\n",
    "            b2 -= self.learning_rate * db2\n",
    "            \n",
    "            # Compute cost function\n",
    "            cost = (-1/m) * np.sum(y*np.log(output) + (1-y)*np.log(1-output))\n",
    "           \n",
    "            \n",
    "    \n",
    "    def predict(self, x):\n",
    "        z1 = np.dot(x, self.w1) + self.b1                     \n",
    "        h1 = self.sigmoid(z1)\n",
    "        z2 = np.dot(h1, self.w2) + self.b2\n",
    "        output = self.sigmoid(z2)\n",
    "        predictions = [1 if i > 0.5 else 0 for i in output]     \n",
    "\n",
    "        \n",
    "        return predictions"
   ]
  },
  {
   "cell_type": "code",
   "execution_count": 10,
   "id": "cad28c4b",
   "metadata": {},
   "outputs": [
    {
     "ename": "ValueError",
     "evalue": "non-broadcastable output operand with shape (2,1) doesn't match the broadcast shape (2,4)",
     "output_type": "error",
     "traceback": [
      "\u001b[1;31m---------------------------------------------------------------------------\u001b[0m",
      "\u001b[1;31mValueError\u001b[0m                                Traceback (most recent call last)",
      "Input \u001b[1;32mIn [10]\u001b[0m, in \u001b[0;36m<cell line: 2>\u001b[1;34m()\u001b[0m\n\u001b[0;32m      1\u001b[0m model3 \u001b[38;5;241m=\u001b[39m Shallow_NN()\n\u001b[1;32m----> 2\u001b[0m \u001b[43mmodel3\u001b[49m\u001b[38;5;241;43m.\u001b[39;49m\u001b[43mfit\u001b[49m\u001b[43m(\u001b[49m\u001b[43mx_train2\u001b[49m\u001b[43m,\u001b[49m\u001b[43m \u001b[49m\u001b[43my_train2\u001b[49m\u001b[43m)\u001b[49m\n\u001b[0;32m      3\u001b[0m y_pred3 \u001b[38;5;241m=\u001b[39m model3\u001b[38;5;241m.\u001b[39mpredict(x_test2)\n\u001b[0;32m      5\u001b[0m f1_score(y_test2, y_pred2)\n",
      "Input \u001b[1;32mIn [9]\u001b[0m, in \u001b[0;36mShallow_NN.fit\u001b[1;34m(self, x, y)\u001b[0m\n\u001b[0;32m     40\u001b[0m             db1 \u001b[38;5;241m=\u001b[39m \u001b[38;5;241m1\u001b[39m\u001b[38;5;241m/\u001b[39mm \u001b[38;5;241m*\u001b[39m np\u001b[38;5;241m.\u001b[39msum(dz1)\n\u001b[0;32m     42\u001b[0m             \u001b[38;5;66;03m# Update weights and bias\u001b[39;00m\n\u001b[0;32m     43\u001b[0m \u001b[38;5;66;03m#             print(w1.shape)\u001b[39;00m\n\u001b[1;32m---> 44\u001b[0m             w1 \u001b[38;5;241m-\u001b[39m\u001b[38;5;241m=\u001b[39m \u001b[38;5;28mself\u001b[39m\u001b[38;5;241m.\u001b[39mlearning_rate \u001b[38;5;241m*\u001b[39m dw1\n\u001b[0;32m     45\u001b[0m             b1 \u001b[38;5;241m-\u001b[39m\u001b[38;5;241m=\u001b[39m \u001b[38;5;28mself\u001b[39m\u001b[38;5;241m.\u001b[39mlearning_rate \u001b[38;5;241m*\u001b[39m db2\n\u001b[0;32m     46\u001b[0m             w2 \u001b[38;5;241m-\u001b[39m\u001b[38;5;241m=\u001b[39m \u001b[38;5;28mself\u001b[39m\u001b[38;5;241m.\u001b[39mlearning_rate \u001b[38;5;241m*\u001b[39m dw2\n",
      "\u001b[1;31mValueError\u001b[0m: non-broadcastable output operand with shape (2,1) doesn't match the broadcast shape (2,4)"
     ]
    }
   ],
   "source": [
    "model3 = Shallow_NN()\n",
    "model3.fit(x_train2, y_train2)\n",
    "y_pred3 = model3.predict(x_test2)\n",
    "\n",
    "f1_score(y_test2, y_pred2)"
   ]
  },
  {
   "cell_type": "markdown",
   "id": "42e18728",
   "metadata": {},
   "source": [
    "## Issues Faced\n",
    "\n",
    "Similar to the first phase where I tried implementing stochastic GD, in this phase as well I was finding issues with changing of the shape of weights during the time of back propagation. I tried my best to resolve this issue but couldn't do it. After so many unsuccessful attempts of sorting this issue, I decided to continue with the code just as it. Due to this, I couldn't check the results on the moons and blobs dataset and couldn't compare it with the Logistic Regression model. "
   ]
  },
  {
   "cell_type": "markdown",
   "id": "09084159",
   "metadata": {},
   "source": [
    "# Part 4: Challenging Task\n",
    "\n",
    "For this part, I was given 2 classes of fashion products which were trousers and bag. Here, to import data, I used the code given by Prof. Micheal Madden and converted the data into training and testing set. I couldn't check the results of using this dataset in the ShallowNN model as it is not working properly."
   ]
  },
  {
   "cell_type": "code",
   "execution_count": 11,
   "id": "29e7696c",
   "metadata": {},
   "outputs": [],
   "source": [
    "# This function taken directly from the Fashion-MNIST github site: \n",
    "# https://github.com/zalandoresearch/fashion-mnist/blob/master/utils/mnist_reader.py\n",
    "\n",
    "# Note: first arg is the path name, second is the file prefix, either 'train' or 't10k' (which is 10k of test data)\n",
    "def load_mnist(path, kind='train'): \n",
    "    import os\n",
    "    import gzip\n",
    "    import numpy as np\n",
    "\n",
    "    \"\"\"Load MNIST data from `path`\"\"\"\n",
    "    labels_path = os.path.join(path,\n",
    "                               '%s-labels-idx1-ubyte.gz'\n",
    "                               % kind)\n",
    "    images_path = os.path.join(path,\n",
    "                               '%s-images-idx3-ubyte.gz'\n",
    "                               % kind)\n",
    "\n",
    "    with gzip.open(labels_path, 'rb') as lbpath:\n",
    "        labels = np.frombuffer(lbpath.read(), dtype=np.uint8,\n",
    "                               offset=8)\n",
    "\n",
    "    with gzip.open(images_path, 'rb') as imgpath:\n",
    "        images = np.frombuffer(imgpath.read(), dtype=np.uint8,\n",
    "                               offset=16).reshape(len(labels), 784)\n",
    "\n",
    "    return images, labels\n",
    "\n",
    "# Loaded in this way, each of the batch files contains a dictionary with the following elements:\n",
    "#   data -- a 10000x3072 numpy array of uint8s. Each row of the array stores a 32x32 colour image. \n",
    "#           The first 1024 entries contain the red channel values, the next 1024 the green, and the final 1024 the blue. \n",
    "#           The image is stored in row-major order, so that the first 32 entries of the array are the red channel values \n",
    "#           of the first row of the image.\n",
    "#   labels -- a list of 10000 numbers in the range 0-9. \n",
    "#             The number at index i indicates the label of the ith image in the array data.\n"
   ]
  },
  {
   "cell_type": "code",
   "execution_count": 12,
   "id": "2b6992a0",
   "metadata": {},
   "outputs": [],
   "source": [
    "(train_imgs, train_labels) = load_mnist('./fashion-mnist-data', 'train')"
   ]
  },
  {
   "cell_type": "code",
   "execution_count": 13,
   "id": "9b7b383e",
   "metadata": {},
   "outputs": [],
   "source": [
    "label_names = ['Trouser', 'Bag']"
   ]
  },
  {
   "cell_type": "code",
   "execution_count": 14,
   "id": "e17d56b7",
   "metadata": {},
   "outputs": [
    {
     "name": "stdout",
     "output_type": "stream",
     "text": [
      "Shape of images is (60000, 784), labels is (60000,)\n"
     ]
    }
   ],
   "source": [
    "print(f\"Shape of images is {train_imgs.shape}, labels is {train_labels.shape}\")\n",
    "\n",
    "# Note: you should find your images is 60000 x 784, and labels is 60000 scalars.\n",
    "# There are 60,000 images, and each image is a 28x28 = 784 pixels.\n",
    "# Each label is a single value corresponding to T-shirt, Trouser, etc."
   ]
  },
  {
   "cell_type": "code",
   "execution_count": 15,
   "id": "2832cf3a",
   "metadata": {},
   "outputs": [],
   "source": [
    "def visualise(data, index):\n",
    "    # MM Jan 2019: Given an MNIST data nparray and the index of an image, display the image.\n",
    "    # Note that the images will be quite fuzzy looking, because they are low res (28x28).\n",
    "\n",
    "    picture = data[index]\n",
    "    \n",
    "    # Initially, the data is a 1D array of 784 pixels; reshape it to a 2D array of 28x28 pixels\n",
    "    picture.shape = (28,28) \n",
    "    \n",
    "    # Display it\n",
    "    plt.imshow(picture, cmap='gray')\n",
    "    plt.show()"
   ]
  },
  {
   "cell_type": "code",
   "execution_count": 16,
   "id": "4634fb47",
   "metadata": {},
   "outputs": [
    {
     "data": {
      "image/png": "[encoded data removed]",
      "text/plain": [
       "<Figure size 432x288 with 1 Axes>"
      ]
     },
     "metadata": {
      "needs_background": "light"
     },
     "output_type": "display_data"
    }
   ],
   "source": [
    "visualise(train_imgs, 10)"
   ]
  },
  {
   "cell_type": "code",
   "execution_count": 17,
   "id": "9f0e3611",
   "metadata": {},
   "outputs": [],
   "source": [
    "x_train3 = np.array([])\n",
    "for i in train_imgs:\n",
    "    if (train_labels == 1).all and (train_labels == 8).all:\n",
    "        x_train3=train_imgs[i]\n",
    "        \n",
    "\n",
    "y_train3 = np.array([])\n",
    "for i in train_imgs:\n",
    "    if (train_labels == 1).all and (train_labels == 8).all:\n",
    "        y_train3=train_labels[i]\n",
    "        "
   ]
  },
  {
   "cell_type": "code",
   "execution_count": 18,
   "id": "bb4be5d2",
   "metadata": {},
   "outputs": [
    {
     "name": "stdout",
     "output_type": "stream",
     "text": [
      "Shape of images is (10000, 784), labels is (10000,)\n"
     ]
    }
   ],
   "source": [
    "(test_imgs, test_labels) = load_mnist('./fashion-mnist-data', 't10k')\n",
    "print(f\"Shape of images is {test_imgs.shape}, labels is {test_labels.shape}\")"
   ]
  },
  {
   "cell_type": "code",
   "execution_count": 19,
   "id": "d234fb3a",
   "metadata": {},
   "outputs": [],
   "source": [
    "x_test3 = np.array([])\n",
    "for i in test_imgs:\n",
    "    if (test_labels == 1).all and (test_labels == 8).all:\n",
    "        x_test3=test_imgs[i]\n",
    "        \n",
    "\n",
    "y_test3 = np.array([])\n",
    "for i in train_imgs:\n",
    "    if (test_labels == 1).all and (test_labels == 8).all:\n",
    "        y_test3=test_labels[i]\n",
    "        "
   ]
  },
  {
   "cell_type": "code",
   "execution_count": null,
   "id": "81bf464e",
   "metadata": {},
   "outputs": [],
   "source": []
  },
  {
   "cell_type": "code",
   "execution_count": 20,
   "id": "8a526659",
   "metadata": {},
   "outputs": [
    {
     "ename": "ValueError",
     "evalue": "operands could not be broadcast together with shapes (784,4) (784,) ",
     "output_type": "error",
     "traceback": [
      "\u001b[1;31m---------------------------------------------------------------------------\u001b[0m",
      "\u001b[1;31mValueError\u001b[0m                                Traceback (most recent call last)",
      "Input \u001b[1;32mIn [20]\u001b[0m, in \u001b[0;36m<cell line: 2>\u001b[1;34m()\u001b[0m\n\u001b[0;32m      1\u001b[0m model3 \u001b[38;5;241m=\u001b[39m Shallow_NN()\n\u001b[1;32m----> 2\u001b[0m \u001b[43mmodel3\u001b[49m\u001b[38;5;241;43m.\u001b[39;49m\u001b[43mfit\u001b[49m\u001b[43m(\u001b[49m\u001b[43mx_train3\u001b[49m\u001b[43m,\u001b[49m\u001b[43m \u001b[49m\u001b[43my_train3\u001b[49m\u001b[43m)\u001b[49m\n\u001b[0;32m      3\u001b[0m y_pred3 \u001b[38;5;241m=\u001b[39m model1\u001b[38;5;241m.\u001b[39mpredict(x_test3)\n\u001b[0;32m      4\u001b[0m f1_score(y_test3, y_pred3)\n",
      "Input \u001b[1;32mIn [9]\u001b[0m, in \u001b[0;36mShallow_NN.fit\u001b[1;34m(self, x, y)\u001b[0m\n\u001b[0;32m     31\u001b[0m output \u001b[38;5;241m=\u001b[39m \u001b[38;5;28mself\u001b[39m\u001b[38;5;241m.\u001b[39msigmoid(z2)\n\u001b[0;32m     34\u001b[0m \u001b[38;5;66;03m# backward propagation\u001b[39;00m\n\u001b[1;32m---> 35\u001b[0m dz2 \u001b[38;5;241m=\u001b[39m \u001b[43moutput\u001b[49m\u001b[43m \u001b[49m\u001b[38;5;241;43m-\u001b[39;49m\u001b[43m \u001b[49m\u001b[43my\u001b[49m\n\u001b[0;32m     36\u001b[0m dw2 \u001b[38;5;241m=\u001b[39m \u001b[38;5;241m1\u001b[39m\u001b[38;5;241m/\u001b[39mm \u001b[38;5;241m*\u001b[39m np\u001b[38;5;241m.\u001b[39mdot(h1\u001b[38;5;241m.\u001b[39mT, dz2)\n\u001b[0;32m     37\u001b[0m db2 \u001b[38;5;241m=\u001b[39m \u001b[38;5;241m1\u001b[39m\u001b[38;5;241m/\u001b[39mm \u001b[38;5;241m*\u001b[39m np\u001b[38;5;241m.\u001b[39msum(dz2)\n",
      "\u001b[1;31mValueError\u001b[0m: operands could not be broadcast together with shapes (784,4) (784,) "
     ]
    }
   ],
   "source": [
    "model3 = Shallow_NN()\n",
    "model3.fit(x_train3, y_train3)\n",
    "y_pred3 = model1.predict(x_test3)\n",
    "f1_score(y_test3, y_pred3)"
   ]
  },
  {
   "cell_type": "markdown",
   "id": "fa880c04",
   "metadata": {},
   "source": [
    "# Part 5: Deep Learning Enhancement"
   ]
  },
  {
   "cell_type": "markdown",
   "id": "aabf2093",
   "metadata": {},
   "source": [
    "I couldn't carry out this part due to lack of time. Although, one enhancement I could make(if I had time) along with keeping multiple hidden layers is, keeping multiple nodes in each hidden layers as well. This will help the model fit more complex functions."
   ]
  },
  {
   "cell_type": "markdown",
   "id": "c6bd50da",
   "metadata": {},
   "source": [
    "# Acknowledgements"
   ]
  },
  {
   "cell_type": "markdown",
   "id": "d67b8a97",
   "metadata": {},
   "source": [
    "https://developer.ibm.com/articles/implementing-logistic-regression-from-scratch-in-python/ \n",
    "    \n",
    "https://www.kaggle.com/code/jagannathrk/logistic-regression-from-scratch-python/notebook \n",
    "    \n",
    "https://www.geeksforgeeks.org/implementation-of-logistic-regression-from-scratch-using-python/ \n",
    "    \n",
    "https://www.python-engineer.com/courses/mlfromscratch/03_logisticregression/ \n",
    "    \n",
    "https://theopetunde.medium.com/a-step-by-step-tutorial-on-coding-neural-network-logistic-regression-model-from-scratch-5f9025bd3d6 \n",
    "    \n",
    "https://www.statology.org/f1-score-in-python/ \n",
    "    \n",
    "https://www.linkedin.com/pulse/shallow-neural-network-from-scratch-deeplearningai-assignment-kim/  \n",
    "    \n",
    "https://www.sharpsightlabs.com/blog/numpy-softmax/ \n",
    "    \n",
    "https://www.tutorialspoint.com/deep_learning_with_keras/deep_learning_with_keras_evaluating_model_performance.htm\n",
    "\n",
    "Lectures slides of week 1 to 6 of Prof. Micheal Madden, NUIG\n",
    "\n",
    "Load-Fashion-MNIST.ipynb file shared by Prof. Micheal Madden, NUIG"
   ]
  },
  {
   "cell_type": "code",
   "execution_count": null,
   "id": "79768358",
   "metadata": {},
   "outputs": [],
   "source": []
  }
 ],
 "metadata": {
  "kernelspec": {
   "display_name": "Python 3 (ipykernel)",
   "language": "python",
   "name": "python3"
  },
  "language_info": {
   "codemirror_mode": {
    "name": "ipython",
    "version": 3
   },
   "file_extension": ".py",
   "mimetype": "text/x-python",
   "name": "python",
   "nbconvert_exporter": "python",
   "pygments_lexer": "ipython3",
   "version": "3.10.5"
  }
 },
 "nbformat": 4,
 "nbformat_minor": 5
}
